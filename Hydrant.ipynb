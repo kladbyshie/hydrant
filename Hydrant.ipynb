{
 "cells": [
  {
   "cell_type": "code",
   "execution_count": null,
   "id": "99b78452",
   "metadata": {},
   "outputs": [],
   "source": [
    "import requests\n",
    "import ipywidgets as widgets"
   ]
  },
  {
   "cell_type": "code",
   "execution_count": null,
   "id": "4e272216",
   "metadata": {},
   "outputs": [],
   "source": [
    "#dev api key + steamid\n",
    "\n",
    "key = \"\"\n",
    "steamid = \"\"\n",
    "\n",
    "#custom methods\n",
    "def handle_large_friend_lists(friend_ids):\n",
    "    arr = [steamid]\n",
    "    while len(friend_ids) > 0:\n",
    "        count_of_ids = len(friend_ids)\n",
    "        if count_of_ids > 100:\n",
    "            arr.append(friend_ids[0:100])\n",
    "            arr.delete(friend_ids[0:100])\n",
    "        else:\n",
    "            arr.append(friend_ids)\n",
    "            break\n",
    "    return arr\n",
    "\n",
    "def fast_filter(name, arr):\n",
    "    items = list(filter(lambda x: x[\"personaname\"] == name, arr))\n",
    "    if len(items) > 0:\n",
    "        return items[0]\n",
    "    \n",
    "#urls\n",
    "get_friends_url = \"http://api.steampowered.com/ISteamUser/GetFriendList/v0001/?key={key}&steamid={steamid}\"\n",
    "get_games_url = \"https://api.steampowered.com/IPlayerService/GetOwnedGames/v1/?key={key}&steamid={steamid}&include_appinfo=true\"\n",
    "get_friend_details_url = \"https://api.steampowered.com/ISteamUser/GetPlayerSummaries/v2/?key={key}&steamids={ids}\""
   ]
  },
  {
   "cell_type": "code",
   "execution_count": null,
   "id": "fe472fa1",
   "metadata": {
    "scrolled": true
   },
   "outputs": [],
   "source": [
    "friend_info = []\n",
    "all_friends_response = requests.get(get_friends_url.format(key = key, steamid = steamid))\n",
    "if all_friends_response.status_code == 200:  \n",
    "    friend_ids = handle_large_friend_lists(list(map(lambda x: x[\"steamid\"], all_friends_response.json()['friendslist']['friends'])))\n",
    "\n",
    "for id_arr in friend_ids:\n",
    "    get_friend_details_response = requests.get(get_friend_details_url.format(key = key, ids = id_arr))\n",
    "    if get_friend_details_response.status_code == 200:\n",
    "        friend_info.append(get_friend_details_response.json()[\"response\"][\"players\"])\n",
    "\n",
    "friend_info = [item for sublist in friend_info for item in sublist]\n",
    "\n",
    "selected_friends = []\n",
    "buttons = []\n",
    "    \n",
    "def handle_select(name):\n",
    "    name = name[\"owner\"].description\n",
    "    if name in selected_friends:\n",
    "        selected_friends.remove(name)\n",
    "    else:\n",
    "        selected_friends.append(name)\n",
    "    \n",
    "for x in list(map(lambda x: x[\"personaname\"], friend_info)):\n",
    "    button = widgets.ToggleButton(\n",
    "        value=False,\n",
    "        description=x,\n",
    "        disabled=False,\n",
    "        button_style='',\n",
    "        icon='check'\n",
    "    )\n",
    "    button.observe(handle_select, 'value')\n",
    "    buttons.append(button)\n",
    "\n",
    "print(\"Select what friends to compare:\")\n",
    "widgets.VBox(buttons)"
   ]
  },
  {
   "cell_type": "code",
   "execution_count": null,
   "id": "0c873bc7",
   "metadata": {
    "scrolled": true
   },
   "outputs": [],
   "source": [
    "friends_and_games = {}\n",
    "if len(selected_friends) < 2:\n",
    "    print(\"Please select at least 2 friends from above\")\n",
    "else:\n",
    "    for name in selected_friends:\n",
    "        friend = fast_filter(name, friend_info)\n",
    "        games_response = requests.get(get_games_url.format(key = key, steamid = friend[\"steamid\"]))\n",
    "        if games_response.status_code == 200 and \"games\" in games_response.json()[\"response\"]:\n",
    "            friends_and_games[name] = games_response.json()[\"response\"][\"games\"]\n",
    "\n",
    "    missing_people = list(set(selected_friends) - set(friends_and_games.keys()))\n",
    "    game_sets = []\n",
    "    for name, games in friends_and_games.items():\n",
    "        game_sets.append(set(list(map(lambda x: x[\"name\"], games))))\n",
    "    game_sets = list(game_sets)\n",
    "    games = game_sets[0].intersection(*game_sets)\n",
    "    if len(games) > 0:\n",
    "        print(f\"Here are all the games {list(friends_and_games.keys())} own:\\n\")\n",
    "    print(games if (len(games) > 0) else \"There are no overlapping games.\")\n",
    "    if len(missing_people) > 0:\n",
    "        print(f\"\\n{missing_people} was not checked because they likely have a private profile.\")"
   ]
  }
 ],
 "metadata": {
  "kernelspec": {
   "display_name": "Python 3 (ipykernel)",
   "language": "python",
   "name": "python3"
  },
  "language_info": {
   "codemirror_mode": {
    "name": "ipython",
    "version": 3
   },
   "file_extension": ".py",
   "mimetype": "text/x-python",
   "name": "python",
   "nbconvert_exporter": "python",
   "pygments_lexer": "ipython3",
   "version": "3.11.4"
  }
 },
 "nbformat": 4,
 "nbformat_minor": 5
}
